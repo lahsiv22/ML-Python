{
 "cells": [
  {
   "cell_type": "code",
   "execution_count": 2,
   "metadata": {},
   "outputs": [],
   "source": [
    "import numpy as np\n",
    "import pandas\n",
    "import matplotlib.pyplot as plt\n",
    "from sklearn.cross_validation import train_test_split\n",
    "from sklearn.metrics import mean_squared_error\n",
    "from sklearn.preprocessing import LabelEncoder\n",
    "from sklearn.preprocessing import OneHotEncoder\n",
    "from sklearn.naive_bayes import GaussianNB"
   ]
  },
  {
   "cell_type": "code",
   "execution_count": 3,
   "metadata": {},
   "outputs": [
    {
     "name": "stdout",
     "output_type": "stream",
     "text": [
      "     slen  swid  plen  pwid           class\n",
      "0     5.1   3.5   1.4   0.2     Iris-setosa\n",
      "1     4.9   3.0   1.4   0.2     Iris-setosa\n",
      "2     4.7   3.2   1.3   0.2     Iris-setosa\n",
      "3     4.6   3.1   1.5   0.2     Iris-setosa\n",
      "4     5.0   3.6   1.4   0.2     Iris-setosa\n",
      "5     5.4   3.9   1.7   0.4     Iris-setosa\n",
      "6     4.6   3.4   1.4   0.3     Iris-setosa\n",
      "7     5.0   3.4   1.5   0.2     Iris-setosa\n",
      "8     4.4   2.9   1.4   0.2     Iris-setosa\n",
      "9     4.9   3.1   1.5   0.1     Iris-setosa\n",
      "10    5.4   3.7   1.5   0.2     Iris-setosa\n",
      "11    4.8   3.4   1.6   0.2     Iris-setosa\n",
      "12    4.8   3.0   1.4   0.1     Iris-setosa\n",
      "13    4.3   3.0   1.1   0.1     Iris-setosa\n",
      "14    5.8   4.0   1.2   0.2     Iris-setosa\n",
      "15    5.7   4.4   1.5   0.4     Iris-setosa\n",
      "16    5.4   3.9   1.3   0.4     Iris-setosa\n",
      "17    5.1   3.5   1.4   0.3     Iris-setosa\n",
      "18    5.7   3.8   1.7   0.3     Iris-setosa\n",
      "19    5.1   3.8   1.5   0.3     Iris-setosa\n",
      "20    5.4   3.4   1.7   0.2     Iris-setosa\n",
      "21    5.1   3.7   1.5   0.4     Iris-setosa\n",
      "22    4.6   3.6   1.0   0.2     Iris-setosa\n",
      "23    5.1   3.3   1.7   0.5     Iris-setosa\n",
      "24    4.8   3.4   1.9   0.2     Iris-setosa\n",
      "25    5.0   3.0   1.6   0.2     Iris-setosa\n",
      "26    5.0   3.4   1.6   0.4     Iris-setosa\n",
      "27    5.2   3.5   1.5   0.2     Iris-setosa\n",
      "28    5.2   3.4   1.4   0.2     Iris-setosa\n",
      "29    4.7   3.2   1.6   0.2     Iris-setosa\n",
      "..    ...   ...   ...   ...             ...\n",
      "120   6.9   3.2   5.7   2.3  Iris-virginica\n",
      "121   5.6   2.8   4.9   2.0  Iris-virginica\n",
      "122   7.7   2.8   6.7   2.0  Iris-virginica\n",
      "123   6.3   2.7   4.9   1.8  Iris-virginica\n",
      "124   6.7   3.3   5.7   2.1  Iris-virginica\n",
      "125   7.2   3.2   6.0   1.8  Iris-virginica\n",
      "126   6.2   2.8   4.8   1.8  Iris-virginica\n",
      "127   6.1   3.0   4.9   1.8  Iris-virginica\n",
      "128   6.4   2.8   5.6   2.1  Iris-virginica\n",
      "129   7.2   3.0   5.8   1.6  Iris-virginica\n",
      "130   7.4   2.8   6.1   1.9  Iris-virginica\n",
      "131   7.9   3.8   6.4   2.0  Iris-virginica\n",
      "132   6.4   2.8   5.6   2.2  Iris-virginica\n",
      "133   6.3   2.8   5.1   1.5  Iris-virginica\n",
      "134   6.1   2.6   5.6   1.4  Iris-virginica\n",
      "135   7.7   3.0   6.1   2.3  Iris-virginica\n",
      "136   6.3   3.4   5.6   2.4  Iris-virginica\n",
      "137   6.4   3.1   5.5   1.8  Iris-virginica\n",
      "138   6.0   3.0   4.8   1.8  Iris-virginica\n",
      "139   6.9   3.1   5.4   2.1  Iris-virginica\n",
      "140   6.7   3.1   5.6   2.4  Iris-virginica\n",
      "141   6.9   3.1   5.1   2.3  Iris-virginica\n",
      "142   5.8   2.7   5.1   1.9  Iris-virginica\n",
      "143   6.8   3.2   5.9   2.3  Iris-virginica\n",
      "144   6.7   3.3   5.7   2.5  Iris-virginica\n",
      "145   6.7   3.0   5.2   2.3  Iris-virginica\n",
      "146   6.3   2.5   5.0   1.9  Iris-virginica\n",
      "147   6.5   3.0   5.2   2.0  Iris-virginica\n",
      "148   6.2   3.4   5.4   2.3  Iris-virginica\n",
      "149   5.9   3.0   5.1   1.8  Iris-virginica\n",
      "\n",
      "[150 rows x 5 columns]\n"
     ]
    },
    {
     "data": {
      "image/png": "[encoded data removed]",
      "text/plain": [
       "<matplotlib.figure.Figure at 0x1bd40bc8e80>"
      ]
     },
     "metadata": {},
     "output_type": "display_data"
    }
   ],
   "source": [
    "#IMPORTING DATA\n",
    "filename = \"iris.csv\"\n",
    "names = [\"slen\",\"swid\",\"plen\",\"pwid\",\"class\"]\n",
    "data = pandas.read_csv(filename,names=names,sep=\",\")\n",
    "print(data)\n",
    "\n",
    "data.hist()\n",
    "plt.show()"
   ]
  },
  {
   "cell_type": "code",
   "execution_count": 4,
   "metadata": {},
   "outputs": [
    {
     "name": "stdout",
     "output_type": "stream",
     "text": [
      "     slen  swid  plen  pwid           class\n",
      "0     5.1   3.5   1.4   0.2     Iris-setosa\n",
      "1     4.9   3.0   1.4   0.2     Iris-setosa\n",
      "2     4.7   3.2   1.3   0.2     Iris-setosa\n",
      "3     4.6   3.1   1.5   0.2     Iris-setosa\n",
      "4     5.0   3.6   1.4   0.2     Iris-setosa\n",
      "5     5.4   3.9   1.7   0.4     Iris-setosa\n",
      "6     4.6   3.4   1.4   0.3     Iris-setosa\n",
      "7     5.0   3.4   1.5   0.2     Iris-setosa\n",
      "8     4.4   2.9   1.4   0.2     Iris-setosa\n",
      "9     4.9   3.1   1.5   0.1     Iris-setosa\n",
      "10    5.4   3.7   1.5   0.2     Iris-setosa\n",
      "11    4.8   3.4   1.6   0.2     Iris-setosa\n",
      "12    4.8   3.0   1.4   0.1     Iris-setosa\n",
      "13    4.3   3.0   1.1   0.1     Iris-setosa\n",
      "14    5.8   4.0   1.2   0.2     Iris-setosa\n",
      "15    5.7   4.4   1.5   0.4     Iris-setosa\n",
      "16    5.4   3.9   1.3   0.4     Iris-setosa\n",
      "17    5.1   3.5   1.4   0.3     Iris-setosa\n",
      "18    5.7   3.8   1.7   0.3     Iris-setosa\n",
      "19    5.1   3.8   1.5   0.3     Iris-setosa\n",
      "20    5.4   3.4   1.7   0.2     Iris-setosa\n",
      "21    5.1   3.7   1.5   0.4     Iris-setosa\n",
      "22    4.6   3.6   1.0   0.2     Iris-setosa\n",
      "23    5.1   3.3   1.7   0.5     Iris-setosa\n",
      "24    4.8   3.4   1.9   0.2     Iris-setosa\n",
      "25    5.0   3.0   1.6   0.2     Iris-setosa\n",
      "26    5.0   3.4   1.6   0.4     Iris-setosa\n",
      "27    5.2   3.5   1.5   0.2     Iris-setosa\n",
      "28    5.2   3.4   1.4   0.2     Iris-setosa\n",
      "29    4.7   3.2   1.6   0.2     Iris-setosa\n",
      "..    ...   ...   ...   ...             ...\n",
      "120   6.9   3.2   5.7   2.3  Iris-virginica\n",
      "121   5.6   2.8   4.9   2.0  Iris-virginica\n",
      "122   7.7   2.8   6.7   2.0  Iris-virginica\n",
      "123   6.3   2.7   4.9   1.8  Iris-virginica\n",
      "124   6.7   3.3   5.7   2.1  Iris-virginica\n",
      "125   7.2   3.2   6.0   1.8  Iris-virginica\n",
      "126   6.2   2.8   4.8   1.8  Iris-virginica\n",
      "127   6.1   3.0   4.9   1.8  Iris-virginica\n",
      "128   6.4   2.8   5.6   2.1  Iris-virginica\n",
      "129   7.2   3.0   5.8   1.6  Iris-virginica\n",
      "130   7.4   2.8   6.1   1.9  Iris-virginica\n",
      "131   7.9   3.8   6.4   2.0  Iris-virginica\n",
      "132   6.4   2.8   5.6   2.2  Iris-virginica\n",
      "133   6.3   2.8   5.1   1.5  Iris-virginica\n",
      "134   6.1   2.6   5.6   1.4  Iris-virginica\n",
      "135   7.7   3.0   6.1   2.3  Iris-virginica\n",
      "136   6.3   3.4   5.6   2.4  Iris-virginica\n",
      "137   6.4   3.1   5.5   1.8  Iris-virginica\n",
      "138   6.0   3.0   4.8   1.8  Iris-virginica\n",
      "139   6.9   3.1   5.4   2.1  Iris-virginica\n",
      "140   6.7   3.1   5.6   2.4  Iris-virginica\n",
      "141   6.9   3.1   5.1   2.3  Iris-virginica\n",
      "142   5.8   2.7   5.1   1.9  Iris-virginica\n",
      "143   6.8   3.2   5.9   2.3  Iris-virginica\n",
      "144   6.7   3.3   5.7   2.5  Iris-virginica\n",
      "145   6.7   3.0   5.2   2.3  Iris-virginica\n",
      "146   6.3   2.5   5.0   1.9  Iris-virginica\n",
      "147   6.5   3.0   5.2   2.0  Iris-virginica\n",
      "148   6.2   3.4   5.4   2.3  Iris-virginica\n",
      "149   5.9   3.0   5.1   1.8  Iris-virginica\n",
      "\n",
      "[150 rows x 5 columns]\n"
     ]
    }
   ],
   "source": [
    "data=pandas.DataFrame(data)\n",
    "print(data)"
   ]
  },
  {
   "cell_type": "code",
   "execution_count": 19,
   "metadata": {},
   "outputs": [
    {
     "name": "stdout",
     "output_type": "stream",
     "text": [
      "     slen  swid  plen  pwid\n",
      "0     5.1   3.5   1.4   0.2\n",
      "1     4.9   3.0   1.4   0.2\n",
      "2     4.7   3.2   1.3   0.2\n",
      "3     4.6   3.1   1.5   0.2\n",
      "4     5.0   3.6   1.4   0.2\n",
      "5     5.4   3.9   1.7   0.4\n",
      "6     4.6   3.4   1.4   0.3\n",
      "7     5.0   3.4   1.5   0.2\n",
      "8     4.4   2.9   1.4   0.2\n",
      "9     4.9   3.1   1.5   0.1\n",
      "10    5.4   3.7   1.5   0.2\n",
      "11    4.8   3.4   1.6   0.2\n",
      "12    4.8   3.0   1.4   0.1\n",
      "13    4.3   3.0   1.1   0.1\n",
      "14    5.8   4.0   1.2   0.2\n",
      "15    5.7   4.4   1.5   0.4\n",
      "16    5.4   3.9   1.3   0.4\n",
      "17    5.1   3.5   1.4   0.3\n",
      "18    5.7   3.8   1.7   0.3\n",
      "19    5.1   3.8   1.5   0.3\n",
      "20    5.4   3.4   1.7   0.2\n",
      "21    5.1   3.7   1.5   0.4\n",
      "22    4.6   3.6   1.0   0.2\n",
      "23    5.1   3.3   1.7   0.5\n",
      "24    4.8   3.4   1.9   0.2\n",
      "25    5.0   3.0   1.6   0.2\n",
      "26    5.0   3.4   1.6   0.4\n",
      "27    5.2   3.5   1.5   0.2\n",
      "28    5.2   3.4   1.4   0.2\n",
      "29    4.7   3.2   1.6   0.2\n",
      "..    ...   ...   ...   ...\n",
      "120   6.9   3.2   5.7   2.3\n",
      "121   5.6   2.8   4.9   2.0\n",
      "122   7.7   2.8   6.7   2.0\n",
      "123   6.3   2.7   4.9   1.8\n",
      "124   6.7   3.3   5.7   2.1\n",
      "125   7.2   3.2   6.0   1.8\n",
      "126   6.2   2.8   4.8   1.8\n",
      "127   6.1   3.0   4.9   1.8\n",
      "128   6.4   2.8   5.6   2.1\n",
      "129   7.2   3.0   5.8   1.6\n",
      "130   7.4   2.8   6.1   1.9\n",
      "131   7.9   3.8   6.4   2.0\n",
      "132   6.4   2.8   5.6   2.2\n",
      "133   6.3   2.8   5.1   1.5\n",
      "134   6.1   2.6   5.6   1.4\n",
      "135   7.7   3.0   6.1   2.3\n",
      "136   6.3   3.4   5.6   2.4\n",
      "137   6.4   3.1   5.5   1.8\n",
      "138   6.0   3.0   4.8   1.8\n",
      "139   6.9   3.1   5.4   2.1\n",
      "140   6.7   3.1   5.6   2.4\n",
      "141   6.9   3.1   5.1   2.3\n",
      "142   5.8   2.7   5.1   1.9\n",
      "143   6.8   3.2   5.9   2.3\n",
      "144   6.7   3.3   5.7   2.5\n",
      "145   6.7   3.0   5.2   2.3\n",
      "146   6.3   2.5   5.0   1.9\n",
      "147   6.5   3.0   5.2   2.0\n",
      "148   6.2   3.4   5.4   2.3\n",
      "149   5.9   3.0   5.1   1.8\n",
      "\n",
      "[150 rows x 4 columns]\n",
      "0         Iris-setosa\n",
      "1         Iris-setosa\n",
      "2         Iris-setosa\n",
      "3         Iris-setosa\n",
      "4         Iris-setosa\n",
      "5         Iris-setosa\n",
      "6         Iris-setosa\n",
      "7         Iris-setosa\n",
      "8         Iris-setosa\n",
      "9         Iris-setosa\n",
      "10        Iris-setosa\n",
      "11        Iris-setosa\n",
      "12        Iris-setosa\n",
      "13        Iris-setosa\n",
      "14        Iris-setosa\n",
      "15        Iris-setosa\n",
      "16        Iris-setosa\n",
      "17        Iris-setosa\n",
      "18        Iris-setosa\n",
      "19        Iris-setosa\n",
      "20        Iris-setosa\n",
      "21        Iris-setosa\n",
      "22        Iris-setosa\n",
      "23        Iris-setosa\n",
      "24        Iris-setosa\n",
      "25        Iris-setosa\n",
      "26        Iris-setosa\n",
      "27        Iris-setosa\n",
      "28        Iris-setosa\n",
      "29        Iris-setosa\n",
      "            ...      \n",
      "120    Iris-virginica\n",
      "121    Iris-virginica\n",
      "122    Iris-virginica\n",
      "123    Iris-virginica\n",
      "124    Iris-virginica\n",
      "125    Iris-virginica\n",
      "126    Iris-virginica\n",
      "127    Iris-virginica\n",
      "128    Iris-virginica\n",
      "129    Iris-virginica\n",
      "130    Iris-virginica\n",
      "131    Iris-virginica\n",
      "132    Iris-virginica\n",
      "133    Iris-virginica\n",
      "134    Iris-virginica\n",
      "135    Iris-virginica\n",
      "136    Iris-virginica\n",
      "137    Iris-virginica\n",
      "138    Iris-virginica\n",
      "139    Iris-virginica\n",
      "140    Iris-virginica\n",
      "141    Iris-virginica\n",
      "142    Iris-virginica\n",
      "143    Iris-virginica\n",
      "144    Iris-virginica\n",
      "145    Iris-virginica\n",
      "146    Iris-virginica\n",
      "147    Iris-virginica\n",
      "148    Iris-virginica\n",
      "149    Iris-virginica\n",
      "Name: class, Length: 150, dtype: object\n"
     ]
    }
   ],
   "source": [
    "#Splitting data into feature columns and Target columns\n",
    "feature_cols=[\"slen\",\"swid\",\"plen\",\"pwid\"]\n",
    "x=data[feature_cols]\n",
    "x=x.astype(float)\n",
    "print(x)\n",
    "\n",
    "y=data[\"class\"]\n",
    "print(y)"
   ]
  },
  {
   "cell_type": "code",
   "execution_count": 20,
   "metadata": {},
   "outputs": [
    {
     "name": "stdout",
     "output_type": "stream",
     "text": [
      "[0 0 0 0 0 0 0 0 0 0 0 0 0 0 0 0 0 0 0 0 0 0 0 0 0 0 0 0 0 0 0 0 0 0 0 0 0\n",
      " 0 0 0 0 0 0 0 0 0 0 0 0 0 1 1 1 1 1 1 1 1 1 1 1 1 1 1 1 1 1 1 1 1 1 1 1 1\n",
      " 1 1 1 1 1 1 1 1 1 1 1 1 1 1 1 1 1 1 1 1 1 1 1 1 1 1 2 2 2 2 2 2 2 2 2 2 2\n",
      " 2 2 2 2 2 2 2 2 2 2 2 2 2 2 2 2 2 2 2 2 2 2 2 2 2 2 2 2 2 2 2 2 2 2 2 2 2\n",
      " 2 2]\n"
     ]
    }
   ],
   "source": [
    "#Integer ENCODING\n",
    "label_encoder = LabelEncoder()\n",
    "integer_encoded = label_encoder.fit_transform(y)\n",
    "print(integer_encoded)"
   ]
  },
  {
   "cell_type": "code",
   "execution_count": 23,
   "metadata": {
    "collapsed": true
   },
   "outputs": [],
   "source": [
    "#Splitting the data into Training set and Testing set\n",
    "y = np.array(integer_encoded)\n",
    "x= np.array(x)\n",
    "x_train, x_test, y_train, y_test = train_test_split(x, y, test_size=0.33, random_state=42)"
   ]
  },
  {
   "cell_type": "code",
   "execution_count": 25,
   "metadata": {},
   "outputs": [],
   "source": [
    "#Using the Gaussian Naive Bayes algorithm for the classification \n",
    "Gnb = GaussianNB()\n",
    "Gnb.fit(x_train, y_train)\n",
    "\n",
    "y_pred = Gnb.predict(x_test)"
   ]
  },
  {
   "cell_type": "code",
   "execution_count": 34,
   "metadata": {},
   "outputs": [
    {
     "name": "stdout",
     "output_type": "stream",
     "text": [
      "[1 0 2 1 1 0 1 2 1 1 2 0 0 0 0 1 2 1 1 2 0 2 0 2 2 2 2 2 0 0 0 0 1 0 0 2 1\n",
      " 0 0 0 2 1 1 0 0 1 2 2 1 2]\n",
      "[1 0 2 1 1 0 1 2 1 1 2 0 0 0 0 2 2 1 1 2 0 2 0 2 2 2 2 2 0 0 0 0 1 0 0 2 1\n",
      " 0 0 0 2 1 1 0 0 1 1 2 1 2]\n"
     ]
    }
   ],
   "source": [
    "print(y_test)\n",
    "print(y_pred)"
   ]
  },
  {
   "cell_type": "code",
   "execution_count": 40,
   "metadata": {},
   "outputs": [
    {
     "name": "stdout",
     "output_type": "stream",
     "text": [
      "[[19  0  0]\n",
      " [ 0 14  1]\n",
      " [ 0  1 15]]\n"
     ]
    }
   ],
   "source": [
    "#Confusion matrix\n",
    "from sklearn.metrics import confusion_matrix\n",
    "confusion_matrix = confusion_matrix(y_test, y_pred)\n",
    "print(confusion_matrix)\n",
    "#Gives us a 96% accuracy."
   ]
  }
 ],
 "metadata": {
  "kernelspec": {
   "display_name": "Python 3",
   "language": "python",
   "name": "python3"
  },
  "language_info": {
   "codemirror_mode": {
    "name": "ipython",
    "version": 3
   },
   "file_extension": ".py",
   "mimetype": "text/x-python",
   "name": "python",
   "nbconvert_exporter": "python",
   "pygments_lexer": "ipython3",
   "version": "3.6.3"
  }
 },
 "nbformat": 4,
 "nbformat_minor": 2
}
